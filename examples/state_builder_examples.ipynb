{
 "cells": [
  {
   "cell_type": "code",
   "execution_count": null,
   "metadata": {},
   "outputs": [],
   "source": [
    "from neuroglancer_annotation_ui.statebuilder import StateBuilder, ChainedStateBuilder\n",
    "from annotationframeworkclient.infoservice import InfoServiceClient\n",
    "import pandas as pd\n",
    "import numpy as np\n",
    "\n",
    "neuroglancer_prefix = 'https://graphene-v0-dot-neuromancer-seung-import.appspot.com/' "
   ]
  },
  {
   "cell_type": "markdown",
   "metadata": {},
   "source": [
    "##### The following code generated the example dataframes\n",
    "```\n",
    "dl = AnalysisDataLink(dataset_name=dataset_name,\n",
    "                      sqlalchemy_database_uri=sql_database_uri_base,\n",
    "                      materialization_version=data_version,\n",
    "                      verbose=False)\n",
    "\n",
    "soma_df = dl.query_cell_types(soma_table)\n",
    "pre_syn_df = dl.query_synapses(synapse_table, pre_ids=[648518346349509367])\n",
    "post_syn_df = dl.query_synapses(synapse_table, post_ids=[648518346349509367])\n",
    "\n",
    "soma_df.to_hdf('example_dataframes.h5', 'soma_df')\n",
    "pre_syn_df.to_hdf('example_dataframes.h5', 'pre_syn_df')\n",
    "post_syn_df.to_hdf('example_dataframes.h5', 'post_syn_df')\n",
    "```"
   ]
  },
  {
   "cell_type": "code",
   "execution_count": null,
   "metadata": {},
   "outputs": [],
   "source": [
    "soma_df = pd.read_hdf('example_dataframes.h5', 'soma_df')\n",
    "pre_syn_df = pd.read_hdf('example_dataframes.h5', 'pre_syn_df')\n",
    "post_syn_df = pd.read_hdf('example_dataframes.h5', 'post_syn_df')"
   ]
  },
  {
   "cell_type": "markdown",
   "metadata": {},
   "source": [
    "## State Builder and Materialized Data Queries"
   ]
  },
  {
   "cell_type": "markdown",
   "metadata": {},
   "source": [
    "### Basic Options\n",
    "The StateBuilder class takes a set of rules for reading the different columns of a dataframe and converting them to Neuroglancer states. The most basic form has an image and segmentation layer, with some column to use to source point annotations. For ease, it can take a dataset name to look up image and segmentation information."
   ]
  },
  {
   "cell_type": "code",
   "execution_count": null,
   "metadata": {},
   "outputs": [],
   "source": [
    "dataset_name = 'pinky100'\n",
    "annotation_map = {'somata': ['pt_position']}\n",
    "\n",
    "point_builder = StateBuilder(dataset_name=dataset_name,\n",
    "                             point_annotations=annotation_map)\n",
    "\n",
    "point_builder.render_state(soma_df, return_as='html', url_prefix=neuroglancer_prefix)"
   ]
  },
  {
   "cell_type": "markdown",
   "metadata": {},
   "source": [
    "The same information can be returned as JSON, as a url string, or as a neuroglancer viewer."
   ]
  },
  {
   "cell_type": "raw",
   "metadata": {},
   "source": [
    "```\n",
    "point_builder.render_state(soma_df, return_as='url')\n",
    "point_builder.render_state(soma_df, return_as='json')\n",
    "point_builder.render_state(soma_df, return_as='viewer', static_content_source='https://graphene-v0-dot-neuromancer-seung-import.appspot.com')\n",
    "```"
   ]
  },
  {
   "cell_type": "markdown",
   "metadata": {},
   "source": [
    "Image and segmentation layers can also be specified manually, and so can the url prefix."
   ]
  },
  {
   "cell_type": "code",
   "execution_count": null,
   "metadata": {},
   "outputs": [],
   "source": [
    "dataset_name = 'pinky100'\n",
    "info = InfoServiceClient(dataset_name=dataset_name)\n",
    "img_dict = {'img': info.image_source(format_for='neuroglancer')}\n",
    "seg_dict = {'seg': info.pychunkedgraph_viewer_source(format_for='neuroglancer')}\n",
    "\n",
    "point_builder = StateBuilder(image_sources=img_dict,\n",
    "                             seg_sources=seg_dict,\n",
    "                             point_annotations=annotation_map)\n",
    "\n",
    "point_builder.render_state(soma_df, return_as='html', url_prefix=neuroglancer_prefix)"
   ]
  },
  {
   "cell_type": "markdown",
   "metadata": {},
   "source": [
    "### Soma Points by Cell Type\n",
    "In order to make this more responsive to data, we pivot the dataframe to make cell-type specific layers with different colors. If we wanted to not anticipate the results, we could always generate the annotation map from the dataframe itself."
   ]
  },
  {
   "cell_type": "code",
   "execution_count": null,
   "metadata": {},
   "outputs": [],
   "source": [
    "\n",
    "annotation_map = {'e': ['e'],\n",
    "                  'i': ['i'], \n",
    "                  'g': ['g']} \n",
    "annotation_layer_colors = {'e': '#ffffff', 'i':'#6dc8d0', 'g':'#011c7f'}\n",
    "cell_type_builder = StateBuilder(dataset_name=dataset_name,\n",
    "                                 seg_sources=seg_dict,\n",
    "                                 annotation_layer_colors=annotation_layer_colors,\n",
    "                                 point_annotations=annotation_map)\n",
    "\n",
    "dfp = soma_df.pivot(values='pt_position', columns='cell_type')\n",
    "cell_type_builder.render_state(dfp, return_as='html', url_prefix=neuroglancer_prefix)"
   ]
  },
  {
   "cell_type": "markdown",
   "metadata": {},
   "source": [
    "You can also collect points from multiple columns into the same layer."
   ]
  },
  {
   "cell_type": "code",
   "execution_count": null,
   "metadata": {},
   "outputs": [],
   "source": [
    "annotation_map = {'neurons': ['e', 'i'],\n",
    "                  'glia': ['g']}\n",
    "annotation_layer_colors = {'neurons': '#fffff', 'glia':'#5dc7d0'}\n",
    "\n",
    "cell_type_builder = StateBuilder(dataset_name=dataset_name,\n",
    "                                 point_annotations=annotation_map,\n",
    "                                 annotation_layer_colors=annotation_layer_colors)\n",
    "\n",
    "dfp = soma_df.pivot(values='pt_position', columns='cell_type')\n",
    "cell_type_builder.render_state(dfp, return_as='html', url_prefix=neuroglancer_prefix)"
   ]
  },
  {
   "cell_type": "markdown",
   "metadata": {},
   "source": [
    "## Additional types of rendering\n",
    "\n",
    "You can also select object ids based on a column of the dataframe. In addition, line and sphere annotations can be created in much the same way as the point annotation, but with a list of tuples."
   ]
  },
  {
   "cell_type": "code",
   "execution_count": null,
   "metadata": {},
   "outputs": [],
   "source": [
    "line_annotations = {'synapses': [['ctr_pt_position', 'post_pt_position']]}\n",
    "color_map = {'synapses': '#ff1200'}\n",
    "selection_map = {'seg': ['pre_pt_root_id']}    # These will be selected by column\n",
    "\n",
    "presyn_builder = StateBuilder(dataset_name=dataset_name,\n",
    "                              annotation_layer_colors=color_map,\n",
    "                              selected_ids=selection_map,\n",
    "                              line_annotations=line_annotations,\n",
    "                              )\n",
    "\n",
    "presyn_builder.render_state( pre_syn_df, return_as='html', url_prefix=neuroglancer_prefix)"
   ]
  },
  {
   "cell_type": "code",
   "execution_count": null,
   "metadata": {},
   "outputs": [],
   "source": [
    "fixed_selection = {'seg': [648518346349537978]}    # These will always be selected\n",
    "presyn_builder = StateBuilder(dataset_name=dataset_name, \n",
    "                              annotation_layer_colors=color_map,\n",
    "                              selected_ids=selection_map,\n",
    "                              line_annotations=line_annotations,\n",
    "                              fixed_selection=fixed_selection,\n",
    "                              )\n",
    "\n",
    "presyn_builder.render_state( pre_syn_df, return_as='html', url_prefix=neuroglancer_prefix)"
   ]
  },
  {
   "cell_type": "markdown",
   "metadata": {},
   "source": [
    "### Using a Base State\n",
    "\n",
    "Instead of giving all components, one can also give an initial neuroglancer state onto which the dataframe annotations and selections will add."
   ]
  },
  {
   "cell_type": "code",
   "execution_count": null,
   "metadata": {},
   "outputs": [],
   "source": [
    "from annotationframeworkclient import jsonservice\n",
    "stateclient = jsonservice.JSONService()\n",
    "base_state = stateclient.get_state_json(state_id=5721488686448640)"
   ]
  },
  {
   "cell_type": "code",
   "execution_count": null,
   "metadata": {},
   "outputs": [],
   "source": [
    "line_annotations = {'synapses': [['ctr_pt_position', 'post_pt_position']]}\n",
    "color_map = {'synapses': '#ff1200'}\n",
    "selection_map = {'seg': ['pre_pt_root_id']}    # These will be selected by column\n",
    "\n",
    "presyn_builder = StateBuilder(base_state=base_state,\n",
    "                              annotation_layer_colors=color_map,\n",
    "                              selected_ids=selection_map,\n",
    "                              line_annotations=line_annotations,\n",
    "                              )\n",
    "\n",
    "presyn_builder.render_state( pre_syn_df, return_as='html', url_prefix=neuroglancer_prefix)"
   ]
  },
  {
   "cell_type": "markdown",
   "metadata": {},
   "source": [
    "### Chaining multiple dataframes and builders\n",
    "If we want to use multiple dataframes and multiple statebuilders, we can chain them together, passing the output state of one to the base state of the next. As a convenience, this is wrapped up into the concept of a ChainedStateBuilder. After making each individual StateBuilder, you can link them together into a ChainedStateBuilder that will take collections of dataframes together and process them in the same order. One use case for this would be pre- and postsynaptic points. Note that because most of the state has been set up by the first step, the second builder can just add annotations."
   ]
  },
  {
   "cell_type": "code",
   "execution_count": null,
   "metadata": {},
   "outputs": [],
   "source": [
    "pre_annotation_map = {'pre': ['ctr_pt_position']}\n",
    "color_map = {'pre': '#FF1200', 'post': '#03d7ff'}\n",
    "pre_selection = {'seg': ['pre_pt_root_id']}\n",
    "\n",
    "presyn_builder = StateBuilder(dataset_name=dataset_name,\n",
    "                              selected_ids=pre_selection,\n",
    "                              point_annotations=pre_annotation_map,\n",
    "                              annotation_layer_colors=color_map,\n",
    "                              )\n",
    "\n",
    "post_annotation_map = {'post': ['ctr_pt_position']}\n",
    "postsyn_builder = StateBuilder(point_annotations=post_annotation_map)\n",
    "\n",
    "chained_builder = ChainedStateBuilder((presyn_builder, postsyn_builder))\n",
    "chained_builder.render_state((pre_syn_df, post_syn_df), return_as='html', url_prefix=neuroglancer_prefix)"
   ]
  },
  {
   "cell_type": "markdown",
   "metadata": {},
   "source": [
    "### Building states from arrays\n",
    "The StateBuilder class is designed to handle schematized dataframes, like those we get back from queries and analysis pipelines. However, if you're doing analysis and you have specific points / ids that you want to highlight, you can directly build a state without explicitly going through the dataframe stage."
   ]
  },
  {
   "cell_type": "code",
   "execution_count": null,
   "metadata": {},
   "outputs": [],
   "source": [
    "from neuroglancer_annotation_ui.statebuilder import build_state_direct"
   ]
  },
  {
   "cell_type": "code",
   "execution_count": null,
   "metadata": {},
   "outputs": [],
   "source": [
    "example_pts_pre = np.vstack(pre_syn_df['pre_pt_position'].values)\n",
    "example_pts_post = np.vstack(post_syn_df['post_pt_position'].values)\n",
    "example_ids = [648518346349509367]"
   ]
  },
  {
   "cell_type": "markdown",
   "metadata": {},
   "source": [
    "A simple example, using direct numpy arrays and lists."
   ]
  },
  {
   "cell_type": "code",
   "execution_count": null,
   "metadata": {},
   "outputs": [],
   "source": [
    "build_state_direct(dataset_name='pinky100', point_annotations=example_pts_pre, selected_ids=example_ids, return_as='html', render_kws={'url_prefix': neuroglancer_prefix})"
   ]
  },
  {
   "cell_type": "markdown",
   "metadata": {},
   "source": [
    "A more complex example, using multiple layers and kwargs."
   ]
  },
  {
   "cell_type": "code",
   "execution_count": null,
   "metadata": {},
   "outputs": [],
   "source": [
    "build_state_direct(dataset_name='pinky100', point_annotations={'pre':example_pts_pre, 'post':example_pts_post}, selected_ids=example_ids, return_as='html',\n",
    "                   annotation_layer_colors= {'pre': '#ff2300', 'post':'#2300ff'},\n",
    "                   render_kws={'url_prefix':neuroglancer_prefix})"
   ]
  },
  {
   "cell_type": "code",
   "execution_count": null,
   "metadata": {},
   "outputs": [],
   "source": []
  }
 ],
 "metadata": {
  "kernelspec": {
   "display_name": "“data_analysis”",
   "language": "python",
   "name": "jupyter_space"
  },
  "language_info": {
   "codemirror_mode": {
    "name": "ipython",
    "version": 3
   },
   "file_extension": ".py",
   "mimetype": "text/x-python",
   "name": "python",
   "nbconvert_exporter": "python",
   "pygments_lexer": "ipython3",
   "version": "3.6.6"
  }
 },
 "nbformat": 4,
 "nbformat_minor": 4
}
