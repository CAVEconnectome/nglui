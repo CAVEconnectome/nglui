{
 "cells": [
  {
   "cell_type": "code",
   "execution_count": null,
   "metadata": {},
   "outputs": [],
   "source": [
    "from analysisdatalink.datalink_ext import AnalysisDataLinkExt as AnalysisDataLink\n",
    "from neuroglancer_annotation_ui.statebuilder import StateBuilder, ChainedStateBuilder\n",
    "from annotationframeworkclient.infoservice import InfoServiceClient\n",
    "from IPython.core.display import HTML\n",
    "import pandas as pd\n",
    "import numpy as np"
   ]
  },
  {
   "cell_type": "code",
   "execution_count": null,
   "metadata": {},
   "outputs": [],
   "source": [
    "data_version = 160\n",
    "config_name = 'pinky100'\n",
    "\n",
    "import os\n",
    "from dotenv import load_dotenv\n",
    "load_dotenv(dotenv_path=os.path.expanduser('~/.config/{config_name}/.env'.format(config_name=config_name)))\n",
    "\n",
    "dataset_name = os.getenv('DATASET_NAME')\n",
    "sql_database_uri_base = os.getenv('MATERIALIZATION_DATABASE_URI_BASE')\n",
    "synapse_table = os.getenv('AUTOMATED_SYNAPSE_TABLE')\n",
    "soma_table = os.getenv('SOMA_TABLE')"
   ]
  },
  {
   "cell_type": "code",
   "execution_count": null,
   "metadata": {},
   "outputs": [],
   "source": [
    "dl = AnalysisDataLink(dataset_name=dataset_name,\n",
    "                      sqlalchemy_database_uri=sql_database_uri_base,\n",
    "                      materialization_version=data_version,\n",
    "                      verbose=False)"
   ]
  },
  {
   "cell_type": "markdown",
   "metadata": {},
   "source": [
    "## State Builder and Materialized Data Queries"
   ]
  },
  {
   "cell_type": "markdown",
   "metadata": {},
   "source": [
    "### Soma Points\n",
    "The most basic version. Generate a neuroglancer state from a dataframe with a bunch of points."
   ]
  },
  {
   "cell_type": "code",
   "execution_count": null,
   "metadata": {},
   "outputs": [],
   "source": [
    "info = InfoServiceClient(dataset_name=dataset_name)\n",
    "img_dict = {'img': info.image_source(format_for='neuroglancer')}\n",
    "seg_dict = {'seg': info.pychunkedgraph_viewer_source(format_for='neuroglancer')}\n",
    "\n",
    "annotation_map = {'somata': {'points':['pt_position']}}\n",
    "point_builder = StateBuilder(image_sources=img_dict,\n",
    "                             seg_sources=seg_dict,\n",
    "                             annotation_layers=annotation_map)\n",
    "\n",
    "HTML(point_builder.render_state(dl.query_cell_ids(soma_table), return_as='html'))"
   ]
  },
  {
   "cell_type": "markdown",
   "metadata": {},
   "source": [
    "### Soma Points by Cell Type\n",
    "In order to make this more responsive to data, we pivot the dataframe to make cell-type specific layers with different colors. If we wanted to not anticipate the results, we could always generate the annotation map from the dataframe itself."
   ]
  },
  {
   "cell_type": "code",
   "execution_count": null,
   "metadata": {},
   "outputs": [],
   "source": [
    "info = InfoServiceClient(dataset_name=dataset_name)\n",
    "img_dict = {'img': info.image_source(format_for='neuroglancer')}\n",
    "seg_dict = {'seg': info.pychunkedgraph_viewer_source(format_for='neuroglancer')}\n",
    "\n",
    "annotation_map = {'e somata': {'points':['e'], 'color':'#ffffff'},\n",
    "                  'i somata': {'points':['i'], 'color':'#5dc7d0'},\n",
    "                  'g somata': {'points':['g'], 'color':'#011c7f'}}\n",
    "\n",
    "cell_type_builder = StateBuilder(image_sources=img_dict,\n",
    "                                 seg_sources=seg_dict,\n",
    "                                 annotation_layers=annotation_map)\n",
    "\n",
    "df = dl.query_cell_ids(soma_table)\n",
    "dfp = df.pivot(values='pt_position', columns='cell_type')\n",
    "HTML(cell_type_builder.render_state(dfp, return_as='html'))"
   ]
  },
  {
   "cell_type": "markdown",
   "metadata": {},
   "source": [
    "### Soma Points by Cell Type v2\n",
    "This is the same thing as above, but we collect points from multiple columns into the same layer."
   ]
  },
  {
   "cell_type": "code",
   "execution_count": null,
   "metadata": {},
   "outputs": [],
   "source": [
    "info = InfoServiceClient(dataset_name=dataset_name)\n",
    "img_dict = {'img': info.image_source(format_for='neuroglancer')}\n",
    "seg_dict = {'seg': info.pychunkedgraph_viewer_source(format_for='neuroglancer')}\n",
    "\n",
    "annotation_map = {'neurons': {'points':['e', 'i'], 'color':'#ffffff'},\n",
    "                  'glia': {'points':['g'], 'color':'#5dc7d0'}}\n",
    "cell_type_builder = StateBuilder(image_sources=img_dict,\n",
    "                                 seg_sources=seg_dict,\n",
    "                                 annotation_layers=annotation_map)\n",
    "\n",
    "df = dl.query_cell_ids(soma_table)\n",
    "dfp = df.pivot(values='pt_position', columns='cell_type')\n",
    "HTML(cell_type_builder.render_state(dfp, return_as='html'))"
   ]
  },
  {
   "cell_type": "markdown",
   "metadata": {},
   "source": [
    "## Synapses\n",
    "Build line annotations from a synapse query and highlight the specific neuron"
   ]
  },
  {
   "cell_type": "code",
   "execution_count": null,
   "metadata": {},
   "outputs": [],
   "source": [
    "id_cell = df[df['cell_type']=='i'].iloc[10]['pt_root_id']\n",
    "\n",
    "info = InfoServiceClient(dataset_name=dataset_name)\n",
    "img_dict = {'img': info.image_source(format_for='neuroglancer')}\n",
    "seg_dict = {'seg': info.pychunkedgraph_viewer_source(format_for='neuroglancer')}\n",
    "\n",
    "annotation_map = {'synapses': {'lines':[['ctr_pt_position', 'post_pt_position']], 'color':'#FF1200'}}\n",
    "selection_map = {'seg': ['pre_pt_root_id']}\n",
    "fixed_selection = {'seg': [id_cell]}\n",
    "presyn_builder = StateBuilder(image_sources=img_dict,\n",
    "                                 seg_sources=seg_dict,\n",
    "                                 selected_ids=selection_map,\n",
    "                                 annotation_layers=annotation_map,\n",
    "                                 )\n",
    "\n",
    "pre_df = dl.query_synapses(synapse_table, pre_ids=[id_cell])\n",
    "\n",
    "HTML(presyn_builder.render_state( pre_df, return_as='html'))"
   ]
  },
  {
   "cell_type": "markdown",
   "metadata": {},
   "source": [
    "#### Chaining multiple dataframes and builders\n",
    "If we want to put several builders together in a row with different dataframes, we can just pass the json state of one into the base state of the next. The ChainedStateBuilder is a convenience class that does that work for you automatically, while applying the standard render state options on the return value. Here, we use it to render a dataframe of presynaptic synapses and a dataframe of postsynaptic synapses."
   ]
  },
  {
   "cell_type": "code",
   "execution_count": null,
   "metadata": {},
   "outputs": [],
   "source": [
    "id_cell = df[df['cell_type']=='i'].iloc[16]['pt_root_id']\n",
    "\n",
    "info = InfoServiceClient(dataset_name=dataset_name)\n",
    "img_dict = {'img': info.image_source(format_for='neuroglancer')}\n",
    "seg_dict = {'seg': info.pychunkedgraph_viewer_source(format_for='neuroglancer')}\n",
    "\n",
    "pre_annotation_map = {'pre': {'lines':[['ctr_pt_position', 'post_pt_position']], 'color':'#FF1200'}}\n",
    "fixed_selection = {'seg': [id_cell]}\n",
    "presyn_builder = StateBuilder(image_sources=img_dict,\n",
    "                              seg_sources=seg_dict,\n",
    "                              fixed_selection=fixed_selection,\n",
    "                              annotation_layers=pre_annotation_map,\n",
    "                              )\n",
    "\n",
    "post_annotation_map = {'post': {'lines':[['pre_pt_position', 'ctr_pt_position']], 'color':'#03d7ff'}}\n",
    "postsyn_builder = StateBuilder(annotation_layers=post_annotation_map)\n",
    "chained_builder = ChainedStateBuilder((presyn_builder, postsyn_builder))\n",
    "\n",
    "pre_df = dl.query_synapses(synapse_table, pre_ids=[id_cell])\n",
    "post_df = dl.query_synapses(synapse_table, post_ids=[id_cell])\n",
    "HTML(chained_builder.render_state((pre_df, post_df), return_as='html'))"
   ]
  },
  {
   "cell_type": "code",
   "execution_count": null,
   "metadata": {},
   "outputs": [],
   "source": []
  }
 ],
 "metadata": {
  "kernelspec": {
   "display_name": "Python [conda env:data_analysis]",
   "language": "python",
   "name": "conda-env-data_analysis-py"
  },
  "language_info": {
   "codemirror_mode": {
    "name": "ipython",
    "version": 3
   },
   "file_extension": ".py",
   "mimetype": "text/x-python",
   "name": "python",
   "nbconvert_exporter": "python",
   "pygments_lexer": "ipython3",
   "version": "3.6.6"
  }
 },
 "nbformat": 4,
 "nbformat_minor": 2
}
