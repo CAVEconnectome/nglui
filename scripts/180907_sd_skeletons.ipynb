{
 "cells": [
  {
   "cell_type": "code",
   "execution_count": 1,
   "metadata": {},
   "outputs": [],
   "source": [
    "import gzip\n",
    "import neuroglancer\n",
    "import os\n",
    "import numpy as np\n",
    "import glob\n",
    "import importlib\n",
    "\n",
    "from neuroglancer_annotation_ui import skeletons, interface, annotation\n",
    "\n",
    "np.random.seed(10) # for consistent colors\n",
    "\n",
    "HOME = os.path.expanduser(\"~\")\n",
    "path_to_folder = HOME + \"/skeleton_runs/\""
   ]
  },
  {
   "cell_type": "code",
   "execution_count": 2,
   "metadata": {},
   "outputs": [],
   "source": [
    "def rgb2hex(r,g,b):\n",
    "    hex = \"#{:02x}{:02x}{:02x}\".format(r,g,b)\n",
    "    return hex\n",
    "\n",
    "def random_hex():\n",
    "    r, g, b = np.random.randint(0, 256, 3)\n",
    "    return rgb2hex(r, g, b)"
   ]
  },
  {
   "cell_type": "markdown",
   "metadata": {},
   "source": [
    "## Skeleton"
   ]
  },
  {
   "cell_type": "code",
   "execution_count": 3,
   "metadata": {},
   "outputs": [],
   "source": [
    "folder_paths = glob.glob(path_to_folder + \"*\")"
   ]
  },
  {
   "cell_type": "code",
   "execution_count": 4,
   "metadata": {},
   "outputs": [],
   "source": [
    "skeleton_meta_list = []\n",
    "for folder_path in folder_paths:\n",
    "    paths = glob.glob(folder_path + \"/*\")\n",
    "    skeleton_meta = skeletons.SkeletonMeta(os.path.basename(folder_path), \n",
    "                                           color=random_hex())\n",
    "    skeleton_meta.add_skeletons_from_files(paths)\n",
    "    skeleton_meta_list.append(skeleton_meta)"
   ]
  },
  {
   "cell_type": "markdown",
   "metadata": {},
   "source": [
    "## Neuroglancer"
   ]
  },
  {
   "cell_type": "code",
   "execution_count": 7,
   "metadata": {},
   "outputs": [],
   "source": [
    "ngl_url = \"neuromancer-seung-import.appspot.com\"\n",
    "segmentation_source = \"precomputed://gs://neuroglancer/wms/skeletonization/pinky40subvol\"\n",
    "segmentation_layer_name = \"seg\"\n",
    "\n",
    "viewer = interface.Interface(ngl_url=ngl_url)\n",
    "viewer.add_segmentation_layer(segmentation_layer_name, segmentation_source)"
   ]
  },
  {
   "cell_type": "markdown",
   "metadata": {},
   "source": [
    "### Display all skeletons from one category \n",
    "\n",
    "This can take some time. Define a list of skeleton_ids to restrict display."
   ]
  },
  {
   "cell_type": "code",
   "execution_count": 6,
   "metadata": {},
   "outputs": [],
   "source": [
    "skeleton_meta_list[0].add_to_ngl(viewer, skeleton_ids=None)\n",
    "viewer.show()"
   ]
  },
  {
   "cell_type": "markdown",
   "metadata": {},
   "source": [
    "### Display same skeleton(s) from different categories"
   ]
  },
  {
   "cell_type": "code",
   "execution_count": 8,
   "metadata": {},
   "outputs": [],
   "source": [
    "for skeleton_meta in skeleton_meta_list:\n",
    "    skeleton_meta.add_to_ngl(viewer, skeleton_ids=[str(78856687)])\n",
    "\n",
    "viewer.show()"
   ]
  }
 ],
 "metadata": {
  "kernelspec": {
   "display_name": "Python 3",
   "language": "python",
   "name": "python3"
  },
  "language_info": {
   "codemirror_mode": {
    "name": "ipython",
    "version": 3
   },
   "file_extension": ".py",
   "mimetype": "text/x-python",
   "name": "python",
   "nbconvert_exporter": "python",
   "pygments_lexer": "ipython3",
   "version": "3.6.5"
  }
 },
 "nbformat": 4,
 "nbformat_minor": 2
}
